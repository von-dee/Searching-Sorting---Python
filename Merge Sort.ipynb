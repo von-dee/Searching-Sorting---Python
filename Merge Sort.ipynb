{
 "cells": [
  {
   "cell_type": "code",
   "execution_count": 2,
   "metadata": {},
   "outputs": [
    {
     "name": "stdout",
     "output_type": "stream",
     "text": [
      "Enter the list values to be sorted: 12 4 3 56\n",
      "The sorted list is: \n",
      "[3, 4, 12, 56]\n"
     ]
    }
   ],
   "source": [
    "def msort(mylist, left, right):\n",
    "    if right - left > 1:\n",
    "        middle = (left + right)//2\n",
    "        msort(mylist, left, middle)\n",
    "        msort(mylist, middle, right)\n",
    "        mlist(mylist, left, middle, right)\n",
    "        \n",
    "def mlist(mylist, left, middle, right):\n",
    "    leftlist = mylist[left:middle]\n",
    "    rightlist = mylist[middle:right]\n",
    "    k = left\n",
    "    i = 0\n",
    "    j = 0\n",
    "    \n",
    "    while (left + i < middle and middle + j < right):\n",
    "        if(leftlist[i] <= rightlist[j]):\n",
    "            mylist[k] = leftlist[i]\n",
    "            i = i + 1\n",
    "        else:\n",
    "            mylist[k] = rightlist[j]\n",
    "            j = j + 1\n",
    "        k = k + 1\n",
    "        \n",
    "    if left + i < middle:\n",
    "        while k < right:\n",
    "            mylist[k] = leftlist[i]\n",
    "            i = i + 1\n",
    "            k = k + 1\n",
    "    else:\n",
    "         while k < right:\n",
    "            mylist[k] = rightlist[j]\n",
    "            j = j + 1\n",
    "            k = k + 1\n",
    "            \n",
    "            \n",
    "mylist = input('Enter the list values to be sorted: ').split()\n",
    "mylist = [int(x) for x in mylist]\n",
    "msort(mylist, 0, len(mylist))\n",
    "print('The sorted list is: ')\n",
    "print(mylist)"
   ]
  },
  {
   "cell_type": "code",
   "execution_count": null,
   "metadata": {},
   "outputs": [],
   "source": []
  }
 ],
 "metadata": {
  "kernelspec": {
   "display_name": "Python (zipline)",
   "language": "python",
   "name": "env_zipline"
  },
  "language_info": {
   "codemirror_mode": {
    "name": "ipython",
    "version": 3
   },
   "file_extension": ".py",
   "mimetype": "text/x-python",
   "name": "python",
   "nbconvert_exporter": "python",
   "pygments_lexer": "ipython3",
   "version": "3.5.6"
  }
 },
 "nbformat": 4,
 "nbformat_minor": 2
}
