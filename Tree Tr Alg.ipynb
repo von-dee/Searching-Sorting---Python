{
 "cells": [
  {
   "cell_type": "code",
   "execution_count": 6,
   "metadata": {},
   "outputs": [],
   "source": [
    "# creating a Node class\n",
    "class Node:\n",
    "    def __init__(self, val):\n",
    "        self.childleft = None\n",
    "        self.childright = None\n",
    "        self.nodedata = val\n",
    "        \n",
    "# Creating an instance of the Node class to construct the tree shown in the image above\n",
    "root = Node(1)\n",
    "root.childleft = Node(2)\n",
    "root.childright = Node(3)\n",
    "root.childleft.childleft = Node(4)\n",
    "root.childleft.childright = Node(5) "
   ]
  },
  {
   "cell_type": "code",
   "execution_count": 7,
   "metadata": {},
   "outputs": [
    {
     "name": "stdout",
     "output_type": "stream",
     "text": [
      "4\n",
      "2\n",
      "5\n",
      "1\n",
      "3\n"
     ]
    }
   ],
   "source": [
    "def InOrd(root):\n",
    "    if root:\n",
    "        InOrd(root.childleft)\n",
    "        print (root.nodedata)\n",
    "        InOrd(root.childright)\n",
    "InOrd(root)"
   ]
  },
  {
   "cell_type": "code",
   "execution_count": 11,
   "metadata": {},
   "outputs": [
    {
     "name": "stdout",
     "output_type": "stream",
     "text": [
      "1\n",
      "2\n",
      "4\n",
      "5\n",
      "3\n"
     ]
    }
   ],
   "source": [
    "def PreOrd(root):\n",
    "    if root:\n",
    "        print (root.nodedata)\n",
    "        PreOrd(root.childleft)\n",
    "        PreOrd(root.childright)\n",
    "PreOrd(root)"
   ]
  },
  {
   "cell_type": "code",
   "execution_count": 12,
   "metadata": {},
   "outputs": [
    {
     "name": "stdout",
     "output_type": "stream",
     "text": [
      "4\n",
      "5\n",
      "2\n",
      "3\n",
      "1\n"
     ]
    }
   ],
   "source": [
    "def PosOrd(root):\n",
    "    if root:\n",
    "        PosOrd(root.childleft)\n",
    "        PosOrd(root.childright)\n",
    "        print (root.nodedata)\n",
    "PosOrd(root)"
   ]
  },
  {
   "cell_type": "code",
   "execution_count": null,
   "metadata": {},
   "outputs": [],
   "source": []
  }
 ],
 "metadata": {
  "kernelspec": {
   "display_name": "Python (zipline)",
   "language": "python",
   "name": "env_zipline"
  },
  "language_info": {
   "codemirror_mode": {
    "name": "ipython",
    "version": 3
   },
   "file_extension": ".py",
   "mimetype": "text/x-python",
   "name": "python",
   "nbconvert_exporter": "python",
   "pygments_lexer": "ipython3",
   "version": "3.5.6"
  }
 },
 "nbformat": 4,
 "nbformat_minor": 2
}
