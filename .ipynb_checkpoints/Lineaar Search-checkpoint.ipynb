{
 "cells": [
  {
   "cell_type": "code",
   "execution_count": 3,
   "metadata": {},
   "outputs": [
    {
     "name": "stdout",
     "output_type": "stream",
     "text": [
      "Key is present in the given list at index 3\n"
     ]
    }
   ],
   "source": [
    "def lin_search(myarray, n, key):\n",
    "       \n",
    "    for x in range(0, n):\n",
    "        if(myarray[x] == key):\n",
    "            return x\n",
    "    return -1\n",
    "\n",
    "myarray = [12, 1, 34, 17]\n",
    "key = 17\n",
    "n = len(myarray)\n",
    "matched = lin_search(myarray, n, key)\n",
    "if(matched == -1):\n",
    "    print(\"Key is not present\")\n",
    "else:\n",
    "    print(\"Key is present in the given list at index\", matched)"
   ]
  },
  {
   "cell_type": "code",
   "execution_count": null,
   "metadata": {},
   "outputs": [],
   "source": []
  }
 ],
 "metadata": {
  "kernelspec": {
   "display_name": "Python (zipline)",
   "language": "python",
   "name": "env_zipline"
  },
  "language_info": {
   "codemirror_mode": {
    "name": "ipython",
    "version": 3
   },
   "file_extension": ".py",
   "mimetype": "text/x-python",
   "name": "python",
   "nbconvert_exporter": "python",
   "pygments_lexer": "ipython3",
   "version": "3.5.6"
  }
 },
 "nbformat": 4,
 "nbformat_minor": 2
}
