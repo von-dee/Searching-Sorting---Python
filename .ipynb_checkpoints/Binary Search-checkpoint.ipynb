{
 "cells": [
  {
   "cell_type": "code",
   "execution_count": 1,
   "metadata": {},
   "outputs": [
    {
     "name": "stdout",
     "output_type": "stream",
     "text": [
      "True\n",
      "False\n"
     ]
    }
   ],
   "source": [
    "def bin_search(mylist, key):\n",
    "    l = 0\n",
    "    r = len(mylist)-1\n",
    "    matched = False\n",
    "    while( l<=r and not matched):\n",
    "        middle = (l + r)//2\n",
    "        if mylist[middle] == key:\n",
    "            matched = True\n",
    "        else:\n",
    "            if key < mylist[middle]:\n",
    "                r = middle - 1\n",
    "            else:\n",
    "                l = middle + 1\n",
    "    return matched\n",
    "print(bin_search([2, 3, 56, 13, 1], 56))\n",
    "print(bin_search([2, 3, 56, 13, 1], 26))"
   ]
  },
  {
   "cell_type": "code",
   "execution_count": null,
   "metadata": {},
   "outputs": [],
   "source": []
  }
 ],
 "metadata": {
  "kernelspec": {
   "display_name": "Python (zipline)",
   "language": "python",
   "name": "env_zipline"
  },
  "language_info": {
   "codemirror_mode": {
    "name": "ipython",
    "version": 3
   },
   "file_extension": ".py",
   "mimetype": "text/x-python",
   "name": "python",
   "nbconvert_exporter": "python",
   "pygments_lexer": "ipython3",
   "version": "3.5.6"
  }
 },
 "nbformat": 4,
 "nbformat_minor": 2
}
