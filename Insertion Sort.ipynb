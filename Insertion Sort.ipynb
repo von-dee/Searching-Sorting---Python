{
 "cells": [
  {
   "cell_type": "code",
   "execution_count": 1,
   "metadata": {},
   "outputs": [
    {
     "name": "stdout",
     "output_type": "stream",
     "text": [
      "[1, 17, 24, 50, 56]\n"
     ]
    }
   ],
   "source": [
    "def isort(a):\n",
    "    for x in range(1, len(a)):\n",
    "        k = a[x] #element present at index number 1\n",
    "        j = x-1\n",
    "        while j >=0 and k < a[j]: # comparing elements with the next until the last item\n",
    "            a[j+1] = a[j]\n",
    "            j -= 1\n",
    "        a[j+1] = k\n",
    "        \n",
    "a = [24, 56, 1, 50, 17]\n",
    "isort(a)\n",
    "print(a)"
   ]
  },
  {
   "cell_type": "code",
   "execution_count": null,
   "metadata": {},
   "outputs": [],
   "source": []
  }
 ],
 "metadata": {
  "kernelspec": {
   "display_name": "Python (zipline)",
   "language": "python",
   "name": "env_zipline"
  },
  "language_info": {
   "codemirror_mode": {
    "name": "ipython",
    "version": 3
   },
   "file_extension": ".py",
   "mimetype": "text/x-python",
   "name": "python",
   "nbconvert_exporter": "python",
   "pygments_lexer": "ipython3",
   "version": "3.5.6"
  }
 },
 "nbformat": 4,
 "nbformat_minor": 2
}
