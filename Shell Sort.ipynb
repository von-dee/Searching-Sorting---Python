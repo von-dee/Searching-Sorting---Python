{
 "cells": [
  {
   "cell_type": "code",
   "execution_count": 1,
   "metadata": {},
   "outputs": [
    {
     "name": "stdout",
     "output_type": "stream",
     "text": [
      "[1, 2, 12, 13, 17, 23, 45]\n"
     ]
    }
   ],
   "source": [
    "def shsort(myarray, n):\n",
    "    g = n//2\n",
    "    while g > 0:\n",
    "        for x in range(g, n):\n",
    "            y = myarray[x]\n",
    "            z = x\n",
    "            while z >= g and myarray[z - g] > y:\n",
    "                myarray[z] = myarray[z - g]\n",
    "                z -= g\n",
    "            myarray[z] = y\n",
    "        g //= 2\n",
    "mylist = [23, 12, 1, 17, 45, 2, 13]\n",
    "length = len(mylist)\n",
    "shsort(mylist, length)\n",
    "print(mylist)"
   ]
  },
  {
   "cell_type": "code",
   "execution_count": null,
   "metadata": {},
   "outputs": [],
   "source": []
  }
 ],
 "metadata": {
  "kernelspec": {
   "display_name": "Python (zipline)",
   "language": "python",
   "name": "env_zipline"
  },
  "language_info": {
   "codemirror_mode": {
    "name": "ipython",
    "version": 3
   },
   "file_extension": ".py",
   "mimetype": "text/x-python",
   "name": "python",
   "nbconvert_exporter": "python",
   "pygments_lexer": "ipython3",
   "version": "3.5.6"
  }
 },
 "nbformat": 4,
 "nbformat_minor": 2
}
