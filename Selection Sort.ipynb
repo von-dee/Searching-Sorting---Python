{
 "cells": [
  {
   "cell_type": "code",
   "execution_count": 2,
   "metadata": {},
   "outputs": [
    {
     "name": "stdout",
     "output_type": "stream",
     "text": [
      "[1, 4, 23, 34, 67]\n"
     ]
    }
   ],
   "source": [
    "def selsort(myarray, r):\n",
    "    for x in range(r):\n",
    "        minimum = x#first element is assumed to be the minimum\n",
    "        for y in range(x + 1, r):\n",
    "            if myarray[y] < myarray[minimum]: #comparing minimum with the next element\n",
    "                minimum = y\n",
    "            (myarray[x], myarray[minimum]) = (myarray[minimum], myarray[x]) #swap elements if required\n",
    "mylist = [34, 23, 1, 67, 4]\n",
    "r = len(mylist)\n",
    "selsort(mylist, r)\n",
    "print(mylist)"
   ]
  },
  {
   "cell_type": "code",
   "execution_count": null,
   "metadata": {},
   "outputs": [],
   "source": []
  }
 ],
 "metadata": {
  "kernelspec": {
   "display_name": "Python (zipline)",
   "language": "python",
   "name": "env_zipline"
  },
  "language_info": {
   "codemirror_mode": {
    "name": "ipython",
    "version": 3
   },
   "file_extension": ".py",
   "mimetype": "text/x-python",
   "name": "python",
   "nbconvert_exporter": "python",
   "pygments_lexer": "ipython3",
   "version": "3.5.6"
  }
 },
 "nbformat": 4,
 "nbformat_minor": 2
}
